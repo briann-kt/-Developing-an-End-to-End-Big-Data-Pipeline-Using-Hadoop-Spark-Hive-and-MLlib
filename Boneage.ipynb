{
  "nbformat": 4,
  "nbformat_minor": 0,
  "metadata": {
    "colab": {
      "provenance": [],
      "authorship_tag": "ABX9TyOFb48UaBNI23Nt5ozIU2wF",
      "include_colab_link": true
    },
    "kernelspec": {
      "name": "python3",
      "display_name": "Python 3"
    },
    "language_info": {
      "name": "python"
    }
  },
  "cells": [
    {
      "cell_type": "markdown",
      "metadata": {
        "id": "view-in-github",
        "colab_type": "text"
      },
      "source": [
        "<a href=\"https://colab.research.google.com/github/briann-kt/-Developing-an-End-to-End-Big-Data-Pipeline-Using-Hadoop-Spark-Hive-and-MLlib/blob/main/Boneage.ipynb\" target=\"_parent\"><img src=\"https://colab.research.google.com/assets/colab-badge.svg\" alt=\"Open In Colab\"/></a>"
      ]
    },
    {
      "cell_type": "code",
      "execution_count": 1,
      "metadata": {
        "id": "6wCrYpWbh6Ad"
      },
      "outputs": [],
      "source": [
        "# PySpark MLlib Pipeline for Bone Age Prediction using Random Forest\n",
        "\n",
        "from pyspark.sql import SparkSession\n",
        "from pyspark.ml.feature import VectorAssembler\n",
        "from pyspark.ml.regression import RandomForestRegressor\n",
        "from pyspark.ml.evaluation import RegressionEvaluator\n",
        "from pyspark.ml import Pipeline"
      ]
    },
    {
      "cell_type": "code",
      "source": [
        "# Start Spark Session\n",
        "spark = SparkSession.builder.appName(\"BoneAgeMLModel\").getOrCreate()"
      ],
      "metadata": {
        "id": "jrFyGiQgiaZT"
      },
      "execution_count": 8,
      "outputs": []
    },
    {
      "cell_type": "code",
      "source": [
        "# Load Data from GCS\n",
        "data_path = \"/content/boneage-training-dataset.csv\"\n",
        "df = spark.read.csv(data_path, header=True, inferSchema=True)"
      ],
      "metadata": {
        "id": "EPrjYQOFihM8"
      },
      "execution_count": 9,
      "outputs": []
    },
    {
      "cell_type": "code",
      "source": [
        "# Clean and Prepare Data\n",
        "df = df.dropna(subset=[\"boneage\", \"male\"])\n",
        "df = df.withColumnRenamed(\"boneage\", \"label\")  # MLlib expects target column to be named 'label'"
      ],
      "metadata": {
        "id": "szrnPpTDjvc_"
      },
      "execution_count": 10,
      "outputs": []
    },
    {
      "cell_type": "code",
      "source": [
        "# Feature Engineering\n",
        "assembler = VectorAssembler(inputCols=[\"male\"], outputCol=\"features\")"
      ],
      "metadata": {
        "id": "3blJc-bwjv8n"
      },
      "execution_count": 11,
      "outputs": []
    },
    {
      "cell_type": "code",
      "source": [
        "# Define Model\n",
        "rf = RandomForestRegressor(featuresCol=\"features\", labelCol=\"label\", numTrees=50)\n",
        "\n",
        "# Create ML Pipeline\n",
        "pipeline = Pipeline(stages=[assembler, rf])\n",
        "\n",
        "# Train/Test Split\n",
        "train_data, test_data = df.randomSplit([0.8, 0.2], seed=42)\n",
        "\n",
        "# Train Model\n",
        "model = pipeline.fit(train_data)"
      ],
      "metadata": {
        "id": "j4JWKzE8jzOR"
      },
      "execution_count": 14,
      "outputs": []
    },
    {
      "cell_type": "code",
      "source": [
        "# Make Predictions\n",
        "predictions = model.transform(test_data)"
      ],
      "metadata": {
        "id": "gI48cDrCkAyb"
      },
      "execution_count": 15,
      "outputs": []
    },
    {
      "cell_type": "code",
      "source": [
        "# Evaluate Model\n",
        "evaluator_rmse = RegressionEvaluator(labelCol=\"label\", predictionCol=\"prediction\", metricName=\"rmse\")\n",
        "evaluator_r2 = RegressionEvaluator(labelCol=\"label\", predictionCol=\"prediction\", metricName=\"r2\")\n",
        "\n",
        "rmse = evaluator_rmse.evaluate(predictions)\n",
        "r2 = evaluator_r2.evaluate(predictions)\n",
        "\n",
        "print(\"Root Mean Squared Error (RMSE):\", rmse)\n",
        "print(\"R² Score:\", r2)\n",
        "\n",
        "# Show some prediction samples\n",
        "predictions.select(\"male\", \"label\", \"prediction\").show(10)"
      ],
      "metadata": {
        "colab": {
          "base_uri": "https://localhost:8080/"
        },
        "id": "5BEcdSPTkM0L",
        "outputId": "efe6ca43-73c1-42fc-a2e3-25e49124be6b"
      },
      "execution_count": 16,
      "outputs": [
        {
          "output_type": "stream",
          "name": "stdout",
          "text": [
            "Root Mean Squared Error (RMSE): 40.12248341904621\n",
            "R² Score: 0.05070195587395243\n",
            "+-----+-----+------------------+\n",
            "| male|label|        prediction|\n",
            "+-----+-----+------------------+\n",
            "|false|   94| 118.0234050657813|\n",
            "| true|  150|135.22307012449446|\n",
            "| true|   36|135.22307012449446|\n",
            "| true|  180|135.22307012449446|\n",
            "|false|   36| 118.0234050657813|\n",
            "|false|  159| 118.0234050657813|\n",
            "|false|   33| 118.0234050657813|\n",
            "|false|   24| 118.0234050657813|\n",
            "| true|   54|135.22307012449446|\n",
            "|false|  144| 118.0234050657813|\n",
            "+-----+-----+------------------+\n",
            "only showing top 10 rows\n",
            "\n"
          ]
        }
      ]
    },
    {
      "cell_type": "code",
      "source": [],
      "metadata": {
        "id": "w5g4FkpekUSC"
      },
      "execution_count": null,
      "outputs": []
    }
  ]
}